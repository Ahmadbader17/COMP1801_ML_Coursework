{
 "cells": [
  {
   "cell_type": "markdown",
   "id": "82d6036e",
   "metadata": {},
   "source": [
    "# Classification"
   ]
  },
  {
   "cell_type": "markdown",
   "id": "db367df6",
   "metadata": {},
   "source": [
    "## Modelling a baseline model using DummyClassifier\n",
    "\n",
    "The objective here is to make a baseline model for our classification task so that we could iterate on it and compare our best model against it"
   ]
  },
  {
   "cell_type": "code",
   "execution_count": 1,
   "id": "024b5c68",
   "metadata": {},
   "outputs": [],
   "source": [
    "import pandas as pd \n",
    "import numpy as np\n",
    "import matplotlib.pyplot as plt\n",
    "import seaborn as sns \n",
    "\n",
    "from sklearn.model_selection import train_test_split\n",
    "from sklearn.preprocessing import StandardScaler, OneHotEncoder\n",
    "from sklearn.compose import ColumnTransformer\n",
    "from sklearn.pipeline import Pipeline \n",
    "from sklearn.linear_model import LogisticRegression\n",
    "from sklearn.dummy import DummyClassifier \n",
    "from sklearn.metrics import(\n",
    "    accuracy_score,\n",
    "    precision_score,\n",
    "    recall_score,\n",
    "    f1_score,\n",
    "    confusion_matrix,\n",
    "    classification_report\n",
    ")\n",
    "\n",
    "RANDOM_STATE = 17"
   ]
  },
  {
   "cell_type": "code",
   "execution_count": 2,
   "id": "7ece1a0b",
   "metadata": {},
   "outputs": [
    {
     "data": {
      "text/html": [
       "<div>\n",
       "<style scoped>\n",
       "    .dataframe tbody tr th:only-of-type {\n",
       "        vertical-align: middle;\n",
       "    }\n",
       "\n",
       "    .dataframe tbody tr th {\n",
       "        vertical-align: top;\n",
       "    }\n",
       "\n",
       "    .dataframe thead th {\n",
       "        text-align: right;\n",
       "    }\n",
       "</style>\n",
       "<table border=\"1\" class=\"dataframe\">\n",
       "  <thead>\n",
       "    <tr style=\"text-align: right;\">\n",
       "      <th></th>\n",
       "      <th>Lifespan</th>\n",
       "      <th>partType</th>\n",
       "      <th>microstructure</th>\n",
       "      <th>coolingRate</th>\n",
       "      <th>quenchTime</th>\n",
       "      <th>forgeTime</th>\n",
       "      <th>HeatTreatTime</th>\n",
       "      <th>Nickel%</th>\n",
       "      <th>Iron%</th>\n",
       "      <th>Cobalt%</th>\n",
       "      <th>Chromium%</th>\n",
       "      <th>smallDefects</th>\n",
       "      <th>largeDefects</th>\n",
       "      <th>sliverDefects</th>\n",
       "      <th>seedLocation</th>\n",
       "      <th>castType</th>\n",
       "    </tr>\n",
       "  </thead>\n",
       "  <tbody>\n",
       "    <tr>\n",
       "      <th>0</th>\n",
       "      <td>1107.81</td>\n",
       "      <td>Valve</td>\n",
       "      <td>singleGrain</td>\n",
       "      <td>27</td>\n",
       "      <td>2.64</td>\n",
       "      <td>8.08</td>\n",
       "      <td>23.35</td>\n",
       "      <td>60.65</td>\n",
       "      <td>19.76</td>\n",
       "      <td>15.18</td>\n",
       "      <td>4.41</td>\n",
       "      <td>7</td>\n",
       "      <td>0</td>\n",
       "      <td>0</td>\n",
       "      <td>Top</td>\n",
       "      <td>Investment</td>\n",
       "    </tr>\n",
       "    <tr>\n",
       "      <th>1</th>\n",
       "      <td>1226.13</td>\n",
       "      <td>Valve</td>\n",
       "      <td>colGrain</td>\n",
       "      <td>24</td>\n",
       "      <td>4.06</td>\n",
       "      <td>1.11</td>\n",
       "      <td>24.98</td>\n",
       "      <td>52.47</td>\n",
       "      <td>31.63</td>\n",
       "      <td>12.32</td>\n",
       "      <td>3.58</td>\n",
       "      <td>30</td>\n",
       "      <td>1</td>\n",
       "      <td>0</td>\n",
       "      <td>Top</td>\n",
       "      <td>Continuous</td>\n",
       "    </tr>\n",
       "    <tr>\n",
       "      <th>2</th>\n",
       "      <td>1914.12</td>\n",
       "      <td>Blade</td>\n",
       "      <td>singleGrain</td>\n",
       "      <td>20</td>\n",
       "      <td>4.36</td>\n",
       "      <td>8.54</td>\n",
       "      <td>34.71</td>\n",
       "      <td>60.98</td>\n",
       "      <td>26.56</td>\n",
       "      <td>11.60</td>\n",
       "      <td>0.86</td>\n",
       "      <td>22</td>\n",
       "      <td>0</td>\n",
       "      <td>0</td>\n",
       "      <td>Bottom</td>\n",
       "      <td>Continuous</td>\n",
       "    </tr>\n",
       "    <tr>\n",
       "      <th>3</th>\n",
       "      <td>1240.83</td>\n",
       "      <td>Valve</td>\n",
       "      <td>singleGrain</td>\n",
       "      <td>14</td>\n",
       "      <td>3.59</td>\n",
       "      <td>8.83</td>\n",
       "      <td>21.61</td>\n",
       "      <td>54.13</td>\n",
       "      <td>26.71</td>\n",
       "      <td>17.81</td>\n",
       "      <td>1.35</td>\n",
       "      <td>10</td>\n",
       "      <td>0</td>\n",
       "      <td>0</td>\n",
       "      <td>Bottom</td>\n",
       "      <td>Continuous</td>\n",
       "    </tr>\n",
       "    <tr>\n",
       "      <th>4</th>\n",
       "      <td>1599.40</td>\n",
       "      <td>Nozzle</td>\n",
       "      <td>singleGrain</td>\n",
       "      <td>22</td>\n",
       "      <td>3.06</td>\n",
       "      <td>3.04</td>\n",
       "      <td>29.65</td>\n",
       "      <td>62.88</td>\n",
       "      <td>24.06</td>\n",
       "      <td>12.08</td>\n",
       "      <td>0.98</td>\n",
       "      <td>21</td>\n",
       "      <td>0</td>\n",
       "      <td>0</td>\n",
       "      <td>Top</td>\n",
       "      <td>Investment</td>\n",
       "    </tr>\n",
       "  </tbody>\n",
       "</table>\n",
       "</div>"
      ],
      "text/plain": [
       "   Lifespan partType microstructure  coolingRate  quenchTime  forgeTime  \\\n",
       "0   1107.81    Valve    singleGrain           27        2.64       8.08   \n",
       "1   1226.13    Valve       colGrain           24        4.06       1.11   \n",
       "2   1914.12    Blade    singleGrain           20        4.36       8.54   \n",
       "3   1240.83    Valve    singleGrain           14        3.59       8.83   \n",
       "4   1599.40   Nozzle    singleGrain           22        3.06       3.04   \n",
       "\n",
       "   HeatTreatTime  Nickel%  Iron%  Cobalt%  Chromium%  smallDefects  \\\n",
       "0          23.35    60.65  19.76    15.18       4.41             7   \n",
       "1          24.98    52.47  31.63    12.32       3.58            30   \n",
       "2          34.71    60.98  26.56    11.60       0.86            22   \n",
       "3          21.61    54.13  26.71    17.81       1.35            10   \n",
       "4          29.65    62.88  24.06    12.08       0.98            21   \n",
       "\n",
       "   largeDefects  sliverDefects seedLocation    castType  \n",
       "0             0              0          Top  Investment  \n",
       "1             1              0          Top  Continuous  \n",
       "2             0              0       Bottom  Continuous  \n",
       "3             0              0       Bottom  Continuous  \n",
       "4             0              0          Top  Investment  "
      ]
     },
     "execution_count": 2,
     "metadata": {},
     "output_type": "execute_result"
    }
   ],
   "source": [
    "try:\n",
    "    df = pd.read_csv(\"../data/COMP1801_Coursework_Dataset_Corrected.csv\")\n",
    "except FileNotFoundError:\n",
    "    print(f\"Error: Dataset file not found!\")\n",
    "    exit()\n",
    "df.head()"
   ]
  },
  {
   "cell_type": "code",
   "execution_count": 3,
   "id": "11dc5c53",
   "metadata": {},
   "outputs": [
    {
     "name": "stdout",
     "output_type": "stream",
     "text": [
      "--- Class Distribution ---\n",
      "1500_labels\n",
      "0    0.711\n",
      "1    0.289\n",
      "Name: proportion, dtype: float64\n",
      "\n",
      "\n"
     ]
    },
    {
     "name": "stderr",
     "output_type": "stream",
     "text": [
      "C:\\Users\\Lenovo\\AppData\\Local\\Temp\\ipykernel_29208\\2327927296.py:12: FutureWarning: \n",
      "\n",
      "Passing `palette` without assigning `hue` is deprecated and will be removed in v0.14.0. Assign the `x` variable to `hue` and set `legend=False` for the same effect.\n",
      "\n",
      "  sns.countplot(x='1500_labels', data=df, palette='pastel', hue=None)\n"
     ]
    },
    {
     "data": {
      "image/png": "[encoded data removed]",
      "text/plain": [
       "<Figure size 600x400 with 1 Axes>"
      ]
     },
     "metadata": {},
     "output_type": "display_data"
    }
   ],
   "source": [
    "# let us create the binary feature for out classification where threshold == 1500\n",
    "\n",
    "LIFESPAN_THRESHOLD = 1500\n",
    "df['1500_labels'] = (df['Lifespan'] >= LIFESPAN_THRESHOLD).astype(int)\n",
    "\n",
    "# plot & check class balance of TRUE/FALSE (1 or 0)\n",
    "print(\"--- Class Distribution ---\")\n",
    "print(df['1500_labels'].value_counts(normalize=True))\n",
    "print(\"\\n\")\n",
    "\n",
    "plt.figure(figsize=(6, 4))\n",
    "sns.countplot(x='1500_labels', data=df, palette='pastel', hue=None)\n",
    "plt.title(f\"Class Distribution (0 = < {LIFESPAN_THRESHOLD}hrs, 1 = >={LIFESPAN_THRESHOLD}hrs)\")\n",
    "plt.xlabel('Class Label')\n",
    "plt.ylabel('Count')\n",
    "plt.savefig(\"../report/figures/fig-4.1-class-distribution.png\", dpi=500, bbox_inches=\"tight\")\n",
    "plt.show()"
   ]
  },
  {
   "cell_type": "markdown",
   "id": "dd920ad3",
   "metadata": {},
   "source": [
    "### Class Distribution observations:\n",
    "\n",
    "1. There is a **strong class imbalance** in the dataset\n",
    "2. Classes 0:1 has a proportion of nearly **7:3** which is highly imbalanced in the favour of class 0\n",
    "3. We must make up for this class imbalance using either minority over-sampling or majority undersampling, etc. \n",
    "4. Need for right metric **(F1 score, recall)** that shows minority performance "
   ]
  },
  {
   "cell_type": "markdown",
   "id": "1ecc57df",
   "metadata": {},
   "source": [
    "### pre-processing "
   ]
  },
  {
   "cell_type": "code",
   "execution_count": 4,
   "id": "45fabd58",
   "metadata": {},
   "outputs": [
    {
     "name": "stdout",
     "output_type": "stream",
     "text": [
      "Training set shape: (800, 15)\n",
      "Test set shape: (200, 15)\n",
      "------------------------------\n"
     ]
    }
   ],
   "source": [
    "y = df['1500_labels']\n",
    "X = df.drop(columns=['Lifespan', '1500_labels'])\n",
    "\n",
    "X_train, X_test, y_train, y_test = train_test_split(\n",
    "    X, y, test_size = 0.20, random_state=RANDOM_STATE\n",
    ")\n",
    "\n",
    "print(f\"Training set shape: {X_train.shape}\")\n",
    "print(f\"Test set shape: {X_test.shape}\")\n",
    "print(\"-\"*30)"
   ]
  },
  {
   "cell_type": "code",
   "execution_count": 5,
   "id": "693192bd",
   "metadata": {},
   "outputs": [
    {
     "name": "stdout",
     "output_type": "stream",
     "text": [
      "Categorical columns: ['partType', 'microstructure', 'seedLocation', 'castType']\n",
      "Numerical columns: ['coolingRate', 'quenchTime', 'forgeTime', 'HeatTreatTime', 'Nickel%', 'Iron%', 'Cobalt%', 'Chromium%', 'smallDefects', 'largeDefects', 'sliverDefects']\n",
      "------------------------------\n"
     ]
    }
   ],
   "source": [
    "cat_col = X_train.select_dtypes(include=['object','category']).columns.tolist()\n",
    "num_col = X_train.select_dtypes(include=['int64','float64']).columns.tolist()\n",
    "\n",
    "print(f\"Categorical columns: {cat_col}\")\n",
    "print(f\"Numerical columns: {num_col}\")\n",
    "print(\"-\"*30)"
   ]
  },
  {
   "cell_type": "code",
   "execution_count": 6,
   "id": "c0758db7",
   "metadata": {},
   "outputs": [
    {
     "name": "stdout",
     "output_type": "stream",
     "text": [
      "\n",
      "--- Dummy Classifier (Baseline) Results ---\n",
      "Dummy Accuracy:  0.7150\n",
      "              precision    recall  f1-score   support\n",
      "\n",
      "           0       0.71      1.00      0.83       143\n",
      "           1       0.00      0.00      0.00        57\n",
      "\n",
      "    accuracy                           0.71       200\n",
      "   macro avg       0.36      0.50      0.42       200\n",
      "weighted avg       0.51      0.71      0.60       200\n",
      "\n",
      "------------------------------\n",
      "Logistic Regression Accuracy: 0.7300\n",
      "Logistic Regression Precision: 0.6000\n",
      "Logistic Regression Recall: 0.1579\n",
      "Logistic Regression F1-Score: 0.2500\n",
      "\n",
      "Full Classification Report:\n",
      "              precision    recall  f1-score   support\n",
      "\n",
      "           0       0.74      0.96      0.84       143\n",
      "           1       0.60      0.16      0.25        57\n",
      "\n",
      "    accuracy                           0.73       200\n",
      "   macro avg       0.67      0.56      0.54       200\n",
      "weighted avg       0.70      0.73      0.67       200\n",
      "\n"
     ]
    },
    {
     "data": {
      "image/png": "[encoded data removed]",
      "text/plain": [
       "<Figure size 700x500 with 2 Axes>"
      ]
     },
     "metadata": {},
     "output_type": "display_data"
    }
   ],
   "source": [
    "categorical_transformer = Pipeline(steps=[\n",
    "    ('onehot', OneHotEncoder(sparse_output=False, handle_unknown='ignore'))\n",
    "])\n",
    "\n",
    "numerical_transformer = Pipeline(steps=[\n",
    "    ('scaler',StandardScaler())\n",
    "])\n",
    "\n",
    "preprocessor = ColumnTransformer(\n",
    "    transformers=[\n",
    "        ('num', numerical_transformer, num_col),\n",
    "        ('cat', categorical_transformer, cat_col)\n",
    "    ],\n",
    "    remainder='passthrough'\n",
    ")\n",
    "\n",
    "print(\"\\n--- Dummy Classifier (Baseline) Results ---\")\n",
    "dummy_clf = DummyClassifier(strategy='most_frequent', random_state=RANDOM_STATE)\n",
    "dummy_clf.fit(X_train, y_train)\n",
    "y_dummy_pred = dummy_clf.predict(X_test)\n",
    "\n",
    "print(f\"Dummy Accuracy: {accuracy_score(y_test, y_dummy_pred): .4f}\")\n",
    "print(classification_report(y_test, y_dummy_pred, zero_division=0))\n",
    "print(\"-\"*30)\n",
    "\n",
    "baseline_model = LogisticRegression(random_state=RANDOM_STATE, max_iter=1000)\n",
    "\n",
    "clf_pipeline = Pipeline(steps=[\n",
    "    ('preprocessor', preprocessor),\n",
    "    ('classifier', baseline_model)\n",
    "])\n",
    "\n",
    "clf_pipeline.fit(X_train, y_train)\n",
    "\n",
    "y_pred = clf_pipeline.predict(X_test)\n",
    "\n",
    "accuracy = accuracy_score(y_test, y_pred)\n",
    "precision = precision_score(y_test, y_pred)\n",
    "recall = recall_score(y_test, y_pred)\n",
    "f1 = f1_score(y_test, y_pred)\n",
    "\n",
    "print(f\"Logistic Regression Accuracy: {accuracy:.4f}\")\n",
    "print(f\"Logistic Regression Precision: {precision:.4f}\")\n",
    "print(f\"Logistic Regression Recall: {recall:.4f}\")\n",
    "print(f\"Logistic Regression F1-Score: {f1:.4f}\")\n",
    "\n",
    "print(\"\\nFull Classification Report:\")\n",
    "print(classification_report(y_test, y_pred))\n",
    "\n",
    "cm = confusion_matrix(y_test, y_pred)\n",
    "plt.figure(figsize=(7, 5))\n",
    "sns.heatmap(cm, annot=True, fmt='d', cmap='Blues', \n",
    "            xticklabels=['Predicted <1500', 'Predicted >=1500'], \n",
    "            yticklabels=['Actual <1500', 'Actual >=1500'])\n",
    "plt.xlabel('Predicted Label')\n",
    "plt.ylabel('True Label')\n",
    "plt.title('Confusion Matrix - Logistic Regression')\n",
    "plt.savefig(\"../report/figures/fig-4.2-baseline-classifier-report.png\", dpi=500, bbox_inches='tight')\n",
    "plt.show()"
   ]
  },
  {
   "cell_type": "markdown",
   "id": "d2583ed4",
   "metadata": {},
   "source": [
    "### Baseline classifier result observations:\n",
    "\n",
    "1. As we hypothesised, the baseline only predicts class 0\n",
    "2. Even though accuracy is fine, we see the real picture when we see precision and recall being terribly bad\n",
    "2. Logistic Regression does learn to predict class 1 but does not do well in containing the effects of imbalanced dataset"
   ]
  },
  {
   "cell_type": "markdown",
   "id": "01c9c8d6",
   "metadata": {},
   "source": [
    "### Addressing Class Imbalance: Synthetic Minority Over-Sampling Technique"
   ]
  },
  {
   "cell_type": "code",
   "execution_count": 8,
   "id": "7845a24e",
   "metadata": {},
   "outputs": [],
   "source": [
    "# ! pip install imbalanced-learn"
   ]
  },
  {
   "cell_type": "code",
   "execution_count": 9,
   "id": "85190998",
   "metadata": {},
   "outputs": [],
   "source": [
    "from imblearn.over_sampling import SMOTE\n",
    "from imblearn.pipeline import Pipeline as ImbPipeline "
   ]
  },
  {
   "cell_type": "code",
   "execution_count": 11,
   "id": "3f62414d",
   "metadata": {},
   "outputs": [
    {
     "name": "stdout",
     "output_type": "stream",
     "text": [
      "---Fitting Logistic Regression with SMOTE---\n",
      "Fit complete!\n",
      "------------------------------\n",
      "\n",
      " ---Logistic Regression with SMOTE Results---\n"
     ]
    },
    {
     "ename": "TypeError",
     "evalue": "'float' object is not callable",
     "output_type": "error",
     "traceback": [
      "\u001b[1;31m---------------------------------------------------------------------------\u001b[0m",
      "\u001b[1;31mTypeError\u001b[0m                                 Traceback (most recent call last)",
      "Cell \u001b[1;32mIn[11], line 18\u001b[0m\n\u001b[0;32m     16\u001b[0m \u001b[38;5;28mprint\u001b[39m(\u001b[38;5;124m\"\u001b[39m\u001b[38;5;130;01m\\n\u001b[39;00m\u001b[38;5;124m ---Logistic Regression with SMOTE Results---\u001b[39m\u001b[38;5;124m\"\u001b[39m)\n\u001b[0;32m     17\u001b[0m accuracy_smote \u001b[38;5;241m=\u001b[39m accuracy_score(y_test, y_pred_smote)\n\u001b[1;32m---> 18\u001b[0m precision_score \u001b[38;5;241m=\u001b[39m \u001b[43mprecision_score\u001b[49m\u001b[43m(\u001b[49m\u001b[43my_test\u001b[49m\u001b[43m,\u001b[49m\u001b[43m \u001b[49m\u001b[43my_pred_smote\u001b[49m\u001b[43m)\u001b[49m\n\u001b[0;32m     19\u001b[0m recall_smote\u001b[38;5;241m=\u001b[39mrecall_score(y_test, y_pred_smote)\n\u001b[0;32m     20\u001b[0m f1_smote \u001b[38;5;241m=\u001b[39m f1_score(y_test, y_pred_smote)\n",
      "\u001b[1;31mTypeError\u001b[0m: 'float' object is not callable"
     ]
    }
   ],
   "source": [
    "smote = SMOTE(random_state=RANDOM_STATE)\n",
    "\n",
    "smote_pipeline = ImbPipeline(steps=[\n",
    "    ('preprocessor', preprocessor),\n",
    "    ('smote', smote),\n",
    "    ('classifier', baseline_model)\n",
    "])\n",
    "\n",
    "print(\"---Fitting Logistic Regression with SMOTE---\")\n",
    "smote_pipeline.fit(X_train, y_train)\n",
    "print(\"Fit complete!\")\n",
    "print(\"-\"*30)\n",
    "\n",
    "y_pred_smote = smote_pipeline.predict(X_test)\n",
    "\n",
    "print(\"\\n ---Logistic Regression with SMOTE Results---\")\n",
    "accuracy_smote = accuracy_score(y_test, y_pred_smote)\n",
    "precision_score = precision_score(y_test, y_pred_smote)\n",
    "recall_smote=recall_score(y_test, y_pred_smote)\n",
    "f1_smote = f1_score(y_test, y_pred_smote)\n",
    "\n",
    "print(f\"LR + SMOTE Accruacy: {accuracy_smote:.4f}\")\n",
    "print(f\"LR + SMOTE Precision (Class 1): {precision_score:.4f}\")\n",
    "print(f\"LR + SMOTE Recall (Class 1): {recall_smote:.4f}\")\n",
    "print(f\"LR + SMOTE F1-Score (Class 1): {f1_smote:.4f}\")\n",
    "\n",
    "print(\"\\n Full Classification Report (with SMOTE):\")\n",
    "print(classification_report(y_test, y_pred_smote))\n",
    "\n",
    "cm_smote = confusion_matrix(y_test, y_pred_smote)\n",
    "plt.figure(figsize=(7, 5))\n",
    "sns.heatmap(cm_smote, annot=True, fmt='d', cmap='Blues',\n",
    "            xticklabels=['Predicted < 1500', 'Predicted >= 1500'],\n",
    "            yticklabels=['Acutal < 1500', 'Actual >= 1500'])\n",
    "plt.xlabel('Predicted Label')\n",
    "plt.ylabel('True Label')\n",
    "plt.title('Confusion Matrix - Logistic Regression with SMOTE')\n",
    "plt.savefig(\"../report/figures/fig-4.3-SMOTE-classifier-report.png\", dpi=500, bbox_inches='tight')\n",
    "plt.show()"
   ]
  },
  {
   "cell_type": "markdown",
   "id": "6f68ac16",
   "metadata": {},
   "source": [
    "### SMOTE Observations:\n",
    "\n",
    "1. We can clearly see that SMOTE has produced **significantly better** results\n",
    "2. Recall for logistic regression went from 0.16 in non-SMOTE model to 0.7018 in the SMOTE model\n",
    "3. We also see their is a drop in precision score from non-smote model to smote model as it expected since we are trying harder to find class 1\n",
    "4. F1 score more than doubles in the SMOTE model to 0.5101 \n",
    "5. Overall accuracy went down from 0.6300 in non-SMOTE model to 0.6250 in the SMOTE model, which is good because now the classes are more balanced"
   ]
  },
  {
   "cell_type": "markdown",
   "id": "766db8af",
   "metadata": {},
   "source": [
    "### Feature Crafting"
   ]
  },
  {
   "cell_type": "markdown",
   "id": "4dcfc7b0",
   "metadata": {},
   "source": [
    "#### 1a. Find the Optimal Number of Clusters\n",
    "\n",
    "We will use Inertia formula to find tight and coherent clusters within our dataset:\n",
    "\n",
    "$$\n",
    "\\text{Inertia} = \\sum_{i=1}^{K} \\sum_{x \\in C_i} \\| x - \\mu_i \\|^2\n",
    "$$\n"
   ]
  },
  {
   "cell_type": "code",
   "execution_count": 15,
   "id": "27e6fec8",
   "metadata": {},
   "outputs": [
    {
     "name": "stderr",
     "output_type": "stream",
     "text": [
      "c:\\Users\\Lenovo\\miniconda3\\envs\\comp1801-ml\\lib\\site-packages\\sklearn\\cluster\\_kmeans.py:1419: UserWarning: KMeans is known to have a memory leak on Windows with MKL, when there are less chunks than available threads. You can avoid it by setting the environment variable OMP_NUM_THREADS=4.\n",
      "  warnings.warn(\n",
      "c:\\Users\\Lenovo\\miniconda3\\envs\\comp1801-ml\\lib\\site-packages\\sklearn\\cluster\\_kmeans.py:1419: UserWarning: KMeans is known to have a memory leak on Windows with MKL, when there are less chunks than available threads. You can avoid it by setting the environment variable OMP_NUM_THREADS=4.\n",
      "  warnings.warn(\n",
      "c:\\Users\\Lenovo\\miniconda3\\envs\\comp1801-ml\\lib\\site-packages\\sklearn\\cluster\\_kmeans.py:1419: UserWarning: KMeans is known to have a memory leak on Windows with MKL, when there are less chunks than available threads. You can avoid it by setting the environment variable OMP_NUM_THREADS=4.\n",
      "  warnings.warn(\n",
      "c:\\Users\\Lenovo\\miniconda3\\envs\\comp1801-ml\\lib\\site-packages\\sklearn\\cluster\\_kmeans.py:1419: UserWarning: KMeans is known to have a memory leak on Windows with MKL, when there are less chunks than available threads. You can avoid it by setting the environment variable OMP_NUM_THREADS=4.\n",
      "  warnings.warn(\n",
      "c:\\Users\\Lenovo\\miniconda3\\envs\\comp1801-ml\\lib\\site-packages\\sklearn\\cluster\\_kmeans.py:1419: UserWarning: KMeans is known to have a memory leak on Windows with MKL, when there are less chunks than available threads. You can avoid it by setting the environment variable OMP_NUM_THREADS=4.\n",
      "  warnings.warn(\n",
      "c:\\Users\\Lenovo\\miniconda3\\envs\\comp1801-ml\\lib\\site-packages\\sklearn\\cluster\\_kmeans.py:1419: UserWarning: KMeans is known to have a memory leak on Windows with MKL, when there are less chunks than available threads. You can avoid it by setting the environment variable OMP_NUM_THREADS=4.\n",
      "  warnings.warn(\n",
      "c:\\Users\\Lenovo\\miniconda3\\envs\\comp1801-ml\\lib\\site-packages\\sklearn\\cluster\\_kmeans.py:1419: UserWarning: KMeans is known to have a memory leak on Windows with MKL, when there are less chunks than available threads. You can avoid it by setting the environment variable OMP_NUM_THREADS=4.\n",
      "  warnings.warn(\n",
      "c:\\Users\\Lenovo\\miniconda3\\envs\\comp1801-ml\\lib\\site-packages\\sklearn\\cluster\\_kmeans.py:1419: UserWarning: KMeans is known to have a memory leak on Windows with MKL, when there are less chunks than available threads. You can avoid it by setting the environment variable OMP_NUM_THREADS=4.\n",
      "  warnings.warn(\n"
     ]
    },
    {
     "data": {
      "image/png": "[encoded data removed]",
      "text/plain": [
       "<Figure size 800x500 with 1 Axes>"
      ]
     },
     "metadata": {},
     "output_type": "display_data"
    }
   ],
   "source": [
    "from sklearn.cluster import KMeans\n",
    "\n",
    "lifespan_data = df[['Lifespan']] \n",
    "\n",
    "inertia = []\n",
    "k_values = range(1, 9)\n",
    "\n",
    "for k in k_values:\n",
    "    kmeans = KMeans(n_clusters=k, n_init=10, random_state=RANDOM_STATE)\n",
    "    kmeans.fit(lifespan_data)\n",
    "    inertia.append(kmeans.inertia_)\n",
    "\n",
    "plt.figure(figsize=(8, 5))\n",
    "plt.plot(k_values, inertia, 'bx-')\n",
    "plt.xlabel('Number of clusters (k)')\n",
    "plt.ylabel('Inertia')\n",
    "plt.title('Elbow Method fo K-Means Clustering')\n",
    "plt.savefig(\"../report/figures/fig-4.4-number-of-clusters.png\", dpi=500, bbox_inches='tight')\n",
    "plt.show()"
   ]
  },
  {
   "cell_type": "markdown",
   "id": "f6343fc4",
   "metadata": {},
   "source": [
    "#### Elbow Method observations:\n",
    "\n",
    "1. We can clearly observe 'elbow'(bend) at k=3\n",
    "2. We can see a sharp decline and then eventual flattening out of inertia at **cluster = 3**\n",
    "2. This provides us evidence of clustering our multi-class classification into **3 distinct categories/clusters**"
   ]
  },
  {
   "cell_type": "code",
   "execution_count": null,
   "id": "77ed3c77",
   "metadata": {},
   "outputs": [],
   "source": []
  }
 ],
 "metadata": {
  "kernelspec": {
   "display_name": "comp1801-ml",
   "language": "python",
   "name": "python3"
  },
  "language_info": {
   "codemirror_mode": {
    "name": "ipython",
    "version": 3
   },
   "file_extension": ".py",
   "mimetype": "text/x-python",
   "name": "python",
   "nbconvert_exporter": "python",
   "pygments_lexer": "ipython3",
   "version": "3.10.19"
  }
 },
 "nbformat": 4,
 "nbformat_minor": 5
}
