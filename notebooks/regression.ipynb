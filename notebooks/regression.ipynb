{
 "cells": [
  {
   "cell_type": "markdown",
   "id": "559606fd",
   "metadata": {},
   "source": [
    "# Regression Modelling"
   ]
  },
  {
   "cell_type": "code",
   "execution_count": 1,
   "id": "ad65536e",
   "metadata": {},
   "outputs": [
    {
     "data": {
      "text/html": [
       "<div>\n",
       "<style scoped>\n",
       "    .dataframe tbody tr th:only-of-type {\n",
       "        vertical-align: middle;\n",
       "    }\n",
       "\n",
       "    .dataframe tbody tr th {\n",
       "        vertical-align: top;\n",
       "    }\n",
       "\n",
       "    .dataframe thead th {\n",
       "        text-align: right;\n",
       "    }\n",
       "</style>\n",
       "<table border=\"1\" class=\"dataframe\">\n",
       "  <thead>\n",
       "    <tr style=\"text-align: right;\">\n",
       "      <th></th>\n",
       "      <th>Lifespan</th>\n",
       "      <th>partType</th>\n",
       "      <th>microstructure</th>\n",
       "      <th>coolingRate</th>\n",
       "      <th>quenchTime</th>\n",
       "      <th>forgeTime</th>\n",
       "      <th>HeatTreatTime</th>\n",
       "      <th>Nickel%</th>\n",
       "      <th>Iron%</th>\n",
       "      <th>Cobalt%</th>\n",
       "      <th>Chromium%</th>\n",
       "      <th>smallDefects</th>\n",
       "      <th>largeDefects</th>\n",
       "      <th>sliverDefects</th>\n",
       "      <th>seedLocation</th>\n",
       "      <th>castType</th>\n",
       "    </tr>\n",
       "  </thead>\n",
       "  <tbody>\n",
       "    <tr>\n",
       "      <th>0</th>\n",
       "      <td>1107.81</td>\n",
       "      <td>Valve</td>\n",
       "      <td>singleGrain</td>\n",
       "      <td>27</td>\n",
       "      <td>2.64</td>\n",
       "      <td>8.08</td>\n",
       "      <td>23.35</td>\n",
       "      <td>60.65</td>\n",
       "      <td>19.76</td>\n",
       "      <td>15.18</td>\n",
       "      <td>4.41</td>\n",
       "      <td>7</td>\n",
       "      <td>0</td>\n",
       "      <td>0</td>\n",
       "      <td>Top</td>\n",
       "      <td>Investment</td>\n",
       "    </tr>\n",
       "    <tr>\n",
       "      <th>1</th>\n",
       "      <td>1226.13</td>\n",
       "      <td>Valve</td>\n",
       "      <td>colGrain</td>\n",
       "      <td>24</td>\n",
       "      <td>4.06</td>\n",
       "      <td>1.11</td>\n",
       "      <td>24.98</td>\n",
       "      <td>52.47</td>\n",
       "      <td>31.63</td>\n",
       "      <td>12.32</td>\n",
       "      <td>3.58</td>\n",
       "      <td>30</td>\n",
       "      <td>1</td>\n",
       "      <td>0</td>\n",
       "      <td>Top</td>\n",
       "      <td>Continuous</td>\n",
       "    </tr>\n",
       "    <tr>\n",
       "      <th>2</th>\n",
       "      <td>1914.12</td>\n",
       "      <td>Blade</td>\n",
       "      <td>singleGrain</td>\n",
       "      <td>20</td>\n",
       "      <td>4.36</td>\n",
       "      <td>8.54</td>\n",
       "      <td>34.71</td>\n",
       "      <td>60.98</td>\n",
       "      <td>26.56</td>\n",
       "      <td>11.60</td>\n",
       "      <td>0.86</td>\n",
       "      <td>22</td>\n",
       "      <td>0</td>\n",
       "      <td>0</td>\n",
       "      <td>Bottom</td>\n",
       "      <td>Continuous</td>\n",
       "    </tr>\n",
       "    <tr>\n",
       "      <th>3</th>\n",
       "      <td>1240.83</td>\n",
       "      <td>Valve</td>\n",
       "      <td>singleGrain</td>\n",
       "      <td>14</td>\n",
       "      <td>3.59</td>\n",
       "      <td>8.83</td>\n",
       "      <td>21.61</td>\n",
       "      <td>54.13</td>\n",
       "      <td>26.71</td>\n",
       "      <td>17.81</td>\n",
       "      <td>1.35</td>\n",
       "      <td>10</td>\n",
       "      <td>0</td>\n",
       "      <td>0</td>\n",
       "      <td>Bottom</td>\n",
       "      <td>Continuous</td>\n",
       "    </tr>\n",
       "    <tr>\n",
       "      <th>4</th>\n",
       "      <td>1599.40</td>\n",
       "      <td>Nozzle</td>\n",
       "      <td>singleGrain</td>\n",
       "      <td>22</td>\n",
       "      <td>3.06</td>\n",
       "      <td>3.04</td>\n",
       "      <td>29.65</td>\n",
       "      <td>62.88</td>\n",
       "      <td>24.06</td>\n",
       "      <td>12.08</td>\n",
       "      <td>0.98</td>\n",
       "      <td>21</td>\n",
       "      <td>0</td>\n",
       "      <td>0</td>\n",
       "      <td>Top</td>\n",
       "      <td>Investment</td>\n",
       "    </tr>\n",
       "  </tbody>\n",
       "</table>\n",
       "</div>"
      ],
      "text/plain": [
       "   Lifespan partType microstructure  coolingRate  quenchTime  forgeTime  \\\n",
       "0   1107.81    Valve    singleGrain           27        2.64       8.08   \n",
       "1   1226.13    Valve       colGrain           24        4.06       1.11   \n",
       "2   1914.12    Blade    singleGrain           20        4.36       8.54   \n",
       "3   1240.83    Valve    singleGrain           14        3.59       8.83   \n",
       "4   1599.40   Nozzle    singleGrain           22        3.06       3.04   \n",
       "\n",
       "   HeatTreatTime  Nickel%  Iron%  Cobalt%  Chromium%  smallDefects  \\\n",
       "0          23.35    60.65  19.76    15.18       4.41             7   \n",
       "1          24.98    52.47  31.63    12.32       3.58            30   \n",
       "2          34.71    60.98  26.56    11.60       0.86            22   \n",
       "3          21.61    54.13  26.71    17.81       1.35            10   \n",
       "4          29.65    62.88  24.06    12.08       0.98            21   \n",
       "\n",
       "   largeDefects  sliverDefects seedLocation    castType  \n",
       "0             0              0          Top  Investment  \n",
       "1             1              0          Top  Continuous  \n",
       "2             0              0       Bottom  Continuous  \n",
       "3             0              0       Bottom  Continuous  \n",
       "4             0              0          Top  Investment  "
      ]
     },
     "execution_count": 1,
     "metadata": {},
     "output_type": "execute_result"
    }
   ],
   "source": [
    "import numpy as np\n",
    "import pandas as pd \n",
    "df = pd.read_csv(\"../data/COMP1801_Coursework_Dataset_Corrected.csv\")\n",
    "df.shape\n",
    "df.head()"
   ]
  },
  {
   "cell_type": "markdown",
   "id": "2152b6d2",
   "metadata": {},
   "source": [
    "### Now we will split the dataset into train data and test data:\n",
    "\n",
    "1. Train data contains **80%** of the dataset for training\n",
    "2. Test data contains **20%** of the dataset purely for testing "
   ]
  },
  {
   "cell_type": "code",
   "execution_count": 3,
   "id": "c23561af",
   "metadata": {},
   "outputs": [
    {
     "name": "stdout",
     "output_type": "stream",
     "text": [
      "size of X_train is :(800, 15) and that of X_test is :(200, 15)\n",
      "size of y_train is :(800,) and that of y_test is :(200,)\n"
     ]
    }
   ],
   "source": [
    "from sklearn.model_selection import train_test_split\n",
    "X = df.drop(columns=['Lifespan'])\n",
    "y = df['Lifespan']\n",
    "X_train, X_test, y_train, y_test = train_test_split(X, y, test_size=0.20, random_state=17)\n",
    "print(f\"size of X_train is :{X_train.shape} and that of X_test is :{X_test.shape}\")\n",
    "print(f\"size of y_train is :{y_train.shape} and that of y_test is :{y_test.shape}\")"
   ]
  },
  {
   "cell_type": "markdown",
   "id": "ba0b1596",
   "metadata": {},
   "source": [
    "### Encoding features:\n",
    "\n",
    "For encoding purpose I will choose OneHotEncoder to avoid imposing a false numerical order, which is a risk with the LabelEncoder."
   ]
  },
  {
   "cell_type": "code",
   "execution_count": 6,
   "id": "fcdc47bf",
   "metadata": {},
   "outputs": [],
   "source": [
    "from sklearn.preprocessing import OneHotEncoder, StandardScaler\n",
    "from sklearn.compose import ColumnTransformer \n",
    "from sklearn.pipeline import Pipeline"
   ]
  },
  {
   "cell_type": "code",
   "execution_count": 15,
   "id": "3a34209d",
   "metadata": {},
   "outputs": [
    {
     "name": "stdout",
     "output_type": "stream",
     "text": [
      "['partType', 'microstructure', 'seedLocation', 'castType']\n",
      "['coolingRate', 'quenchTime', 'forgeTime', 'HeatTreatTime', 'Nickel%', 'Iron%', 'Cobalt%', 'Chromium%', 'smallDefects', 'largeDefects', 'sliverDefects']\n"
     ]
    }
   ],
   "source": [
    "# grouping numerical and categorical feature columns\n",
    "\n",
    "cat_col = X_train.select_dtypes(include=['object','category']).columns.tolist()\n",
    "num_col = X_train.select_dtypes(include=['int64','float64']).columns.tolist()\n",
    "\n",
    "print(cat_col)\n",
    "print(num_col)"
   ]
  },
  {
   "cell_type": "code",
   "execution_count": 16,
   "id": "3c3a62df",
   "metadata": {},
   "outputs": [
    {
     "name": "stdout",
     "output_type": "stream",
     "text": [
      "Original shape: (800, 15)\n",
      "Preprocessed shape: (800, 23)\n",
      "\n",
      "Feature names after preprocessing:\n",
      "['coolingRate', 'quenchTime', 'forgeTime', 'HeatTreatTime', 'Nickel%', 'Iron%', 'Cobalt%', 'Chromium%', 'smallDefects', 'largeDefects', 'sliverDefects', 'partType_Blade', 'partType_Block', 'partType_Nozzle', 'partType_Valve', 'microstructure_colGrain', 'microstructure_equiGrain', 'microstructure_singleGrain', 'seedLocation_Bottom', 'seedLocation_Top', 'castType_Continuous', 'castType_Die', 'castType_Investment']\n"
     ]
    }
   ],
   "source": [
    "# create preprocessing pipelines for each data type\n",
    "\n",
    "from sklearn.pipeline import Pipeline\n",
    "from sklearn.compose import ColumnTransformer\n",
    "from sklearn.preprocessing import OneHotEncoder, StandardScaler\n",
    "import pandas as pd\n",
    "\n",
    "# Create preprocessing pipelines for each data type\n",
    "categorical_transformer = Pipeline(steps=[\n",
    "    ('onehot', OneHotEncoder(sparse_output=False, handle_unknown='ignore'))\n",
    "])\n",
    "\n",
    "numerical_transformer = Pipeline(steps=[\n",
    "    ('scaler', StandardScaler())\n",
    "])\n",
    "\n",
    "preprocessor = ColumnTransformer(\n",
    "    transformers=[\n",
    "        ('num', numerical_transformer, num_col),\n",
    "        ('cat', categorical_transformer, cat_col)\n",
    "    ],\n",
    "    remainder='passthrough'\n",
    ")\n",
    "\n",
    "X_train_preprocessed = preprocessor.fit_transform(X_train)\n",
    "X_test_preprocessed = preprocessor.transform(X_test)\n",
    "\n",
    "num_feature_names = num_col\n",
    "cat_feature_names = preprocessor.named_transformers_['cat']['onehot'].get_feature_names_out(cat_col)\n",
    "\n",
    "all_feature_names = list(num_feature_names) + list(cat_feature_names)\n",
    "\n",
    "X_train_preprocessed = pd.DataFrame(X_train_preprocessed, columns=all_feature_names, index=X_train.index)\n",
    "X_test_preprocessed = pd.DataFrame(X_test_preprocessed, columns=all_feature_names, index=X_test.index)\n",
    "\n",
    "print(f\"Original shape: {X_train.shape}\")\n",
    "print(f\"Preprocessed shape: {X_train_preprocessed.shape}\")\n",
    "print(f\"\\nFeature names after preprocessing:\\n{all_feature_names}\")"
   ]
  },
  {
   "cell_type": "markdown",
   "id": "27f5256a",
   "metadata": {},
   "source": [
    "---"
   ]
  },
  {
   "cell_type": "markdown",
   "id": "c19608af",
   "metadata": {},
   "source": [
    "### Base Modelling:\n",
    "\n",
    "1. Now let us start with modelling our data with a baseline model that predicts mean of training data. \n",
    "2. This serves as a baseline for our final model which should outperform this dummy regressor.\n",
    "3. This helps us identify if our model is learning anything at all."
   ]
  },
  {
   "cell_type": "code",
   "execution_count": 18,
   "id": "a6da1d2f",
   "metadata": {},
   "outputs": [],
   "source": [
    "from sklearn.dummy import DummyRegressor \n",
    "from sklearn.model_selection import GridSearchCV, cross_val_score\n",
    "from sklearn.svm import SVR \n",
    "from sklearn.ensemble import GradientBoostingRegressor \n",
    "from sklearn.metrics import mean_squared_error, r2_score, mean_absolute_error"
   ]
  },
  {
   "cell_type": "code",
   "execution_count": 19,
   "id": "794bb23c",
   "metadata": {},
   "outputs": [
    {
     "name": "stdout",
     "output_type": "stream",
     "text": [
      "\n",
      "Baseline Model (Mean Strategy):\n",
      "  Train R²: 0.0000\n",
      "  Test R²:  -0.0000\n",
      "  Test MSE: 113480.9922\n",
      "  Test MAE: 279.3145\n"
     ]
    }
   ],
   "source": [
    "# Baseline dummy regressor\n",
    "\n",
    "baseline_model = DummyRegressor(strategy='mean')\n",
    "baseline_model.fit(X_train_preprocessed, y_train)\n",
    "\n",
    "y_train_baseline = baseline_model.predict(X_train_preprocessed)\n",
    "y_test_baseline = baseline_model.predict(X_test_preprocessed)\n",
    "\n",
    "baseline_train_r2 = r2_score(y_train, y_train_baseline)\n",
    "baseline_test_r2 = r2_score(y_test, y_test_baseline)\n",
    "baseline_test_mse = mean_squared_error(y_test, y_test_baseline)\n",
    "baseline_test_mae = mean_absolute_error(y_test, y_test_baseline)\n",
    "\n",
    "print(f\"\\nBaseline Model (Mean Strategy):\")\n",
    "print(f\"  Train R²: {baseline_train_r2:.4f}\")\n",
    "print(f\"  Test R²:  {baseline_test_r2:.4f}\")\n",
    "print(f\"  Test MSE: {baseline_test_mse:.4f}\")\n",
    "print(f\"  Test MAE: {baseline_test_mae:.4f}\")"
   ]
  },
  {
   "cell_type": "markdown",
   "id": "e33af640",
   "metadata": {},
   "source": [
    "#### Key takeaways of baseline mode:\n",
    "\n",
    "1. R2 score: model socres 0.0000 that means it cannot explain any variance at all since it uses 'mean' strategy\n",
    "2. MSE and MAE tell us that the model is missing patterns by only predicting mean "
   ]
  },
  {
   "cell_type": "code",
   "execution_count": null,
   "id": "b5e92abd",
   "metadata": {},
   "outputs": [],
   "source": []
  }
 ],
 "metadata": {
  "kernelspec": {
   "display_name": "comp1801-ml",
   "language": "python",
   "name": "python3"
  },
  "language_info": {
   "codemirror_mode": {
    "name": "ipython",
    "version": 3
   },
   "file_extension": ".py",
   "mimetype": "text/x-python",
   "name": "python",
   "nbconvert_exporter": "python",
   "pygments_lexer": "ipython3",
   "version": "3.10.19"
  }
 },
 "nbformat": 4,
 "nbformat_minor": 5
}
