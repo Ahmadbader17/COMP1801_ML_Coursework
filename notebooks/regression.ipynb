{
 "cells": [
  {
   "cell_type": "markdown",
   "id": "559606fd",
   "metadata": {},
   "source": [
    "# Regression Modelling"
   ]
  },
  {
   "cell_type": "code",
   "execution_count": 1,
   "id": "ad65536e",
   "metadata": {},
   "outputs": [
    {
     "data": {
      "text/html": [
       "<div>\n",
       "<style scoped>\n",
       "    .dataframe tbody tr th:only-of-type {\n",
       "        vertical-align: middle;\n",
       "    }\n",
       "\n",
       "    .dataframe tbody tr th {\n",
       "        vertical-align: top;\n",
       "    }\n",
       "\n",
       "    .dataframe thead th {\n",
       "        text-align: right;\n",
       "    }\n",
       "</style>\n",
       "<table border=\"1\" class=\"dataframe\">\n",
       "  <thead>\n",
       "    <tr style=\"text-align: right;\">\n",
       "      <th></th>\n",
       "      <th>Lifespan</th>\n",
       "      <th>partType</th>\n",
       "      <th>microstructure</th>\n",
       "      <th>coolingRate</th>\n",
       "      <th>quenchTime</th>\n",
       "      <th>forgeTime</th>\n",
       "      <th>HeatTreatTime</th>\n",
       "      <th>Nickel%</th>\n",
       "      <th>Iron%</th>\n",
       "      <th>Cobalt%</th>\n",
       "      <th>Chromium%</th>\n",
       "      <th>smallDefects</th>\n",
       "      <th>largeDefects</th>\n",
       "      <th>sliverDefects</th>\n",
       "      <th>seedLocation</th>\n",
       "      <th>castType</th>\n",
       "    </tr>\n",
       "  </thead>\n",
       "  <tbody>\n",
       "    <tr>\n",
       "      <th>0</th>\n",
       "      <td>1107.81</td>\n",
       "      <td>Valve</td>\n",
       "      <td>singleGrain</td>\n",
       "      <td>27</td>\n",
       "      <td>2.64</td>\n",
       "      <td>8.08</td>\n",
       "      <td>23.35</td>\n",
       "      <td>60.65</td>\n",
       "      <td>19.76</td>\n",
       "      <td>15.18</td>\n",
       "      <td>4.41</td>\n",
       "      <td>7</td>\n",
       "      <td>0</td>\n",
       "      <td>0</td>\n",
       "      <td>Top</td>\n",
       "      <td>Investment</td>\n",
       "    </tr>\n",
       "    <tr>\n",
       "      <th>1</th>\n",
       "      <td>1226.13</td>\n",
       "      <td>Valve</td>\n",
       "      <td>colGrain</td>\n",
       "      <td>24</td>\n",
       "      <td>4.06</td>\n",
       "      <td>1.11</td>\n",
       "      <td>24.98</td>\n",
       "      <td>52.47</td>\n",
       "      <td>31.63</td>\n",
       "      <td>12.32</td>\n",
       "      <td>3.58</td>\n",
       "      <td>30</td>\n",
       "      <td>1</td>\n",
       "      <td>0</td>\n",
       "      <td>Top</td>\n",
       "      <td>Continuous</td>\n",
       "    </tr>\n",
       "    <tr>\n",
       "      <th>2</th>\n",
       "      <td>1914.12</td>\n",
       "      <td>Blade</td>\n",
       "      <td>singleGrain</td>\n",
       "      <td>20</td>\n",
       "      <td>4.36</td>\n",
       "      <td>8.54</td>\n",
       "      <td>34.71</td>\n",
       "      <td>60.98</td>\n",
       "      <td>26.56</td>\n",
       "      <td>11.60</td>\n",
       "      <td>0.86</td>\n",
       "      <td>22</td>\n",
       "      <td>0</td>\n",
       "      <td>0</td>\n",
       "      <td>Bottom</td>\n",
       "      <td>Continuous</td>\n",
       "    </tr>\n",
       "    <tr>\n",
       "      <th>3</th>\n",
       "      <td>1240.83</td>\n",
       "      <td>Valve</td>\n",
       "      <td>singleGrain</td>\n",
       "      <td>14</td>\n",
       "      <td>3.59</td>\n",
       "      <td>8.83</td>\n",
       "      <td>21.61</td>\n",
       "      <td>54.13</td>\n",
       "      <td>26.71</td>\n",
       "      <td>17.81</td>\n",
       "      <td>1.35</td>\n",
       "      <td>10</td>\n",
       "      <td>0</td>\n",
       "      <td>0</td>\n",
       "      <td>Bottom</td>\n",
       "      <td>Continuous</td>\n",
       "    </tr>\n",
       "    <tr>\n",
       "      <th>4</th>\n",
       "      <td>1599.40</td>\n",
       "      <td>Nozzle</td>\n",
       "      <td>singleGrain</td>\n",
       "      <td>22</td>\n",
       "      <td>3.06</td>\n",
       "      <td>3.04</td>\n",
       "      <td>29.65</td>\n",
       "      <td>62.88</td>\n",
       "      <td>24.06</td>\n",
       "      <td>12.08</td>\n",
       "      <td>0.98</td>\n",
       "      <td>21</td>\n",
       "      <td>0</td>\n",
       "      <td>0</td>\n",
       "      <td>Top</td>\n",
       "      <td>Investment</td>\n",
       "    </tr>\n",
       "  </tbody>\n",
       "</table>\n",
       "</div>"
      ],
      "text/plain": [
       "   Lifespan partType microstructure  coolingRate  quenchTime  forgeTime  \\\n",
       "0   1107.81    Valve    singleGrain           27        2.64       8.08   \n",
       "1   1226.13    Valve       colGrain           24        4.06       1.11   \n",
       "2   1914.12    Blade    singleGrain           20        4.36       8.54   \n",
       "3   1240.83    Valve    singleGrain           14        3.59       8.83   \n",
       "4   1599.40   Nozzle    singleGrain           22        3.06       3.04   \n",
       "\n",
       "   HeatTreatTime  Nickel%  Iron%  Cobalt%  Chromium%  smallDefects  \\\n",
       "0          23.35    60.65  19.76    15.18       4.41             7   \n",
       "1          24.98    52.47  31.63    12.32       3.58            30   \n",
       "2          34.71    60.98  26.56    11.60       0.86            22   \n",
       "3          21.61    54.13  26.71    17.81       1.35            10   \n",
       "4          29.65    62.88  24.06    12.08       0.98            21   \n",
       "\n",
       "   largeDefects  sliverDefects seedLocation    castType  \n",
       "0             0              0          Top  Investment  \n",
       "1             1              0          Top  Continuous  \n",
       "2             0              0       Bottom  Continuous  \n",
       "3             0              0       Bottom  Continuous  \n",
       "4             0              0          Top  Investment  "
      ]
     },
     "execution_count": 1,
     "metadata": {},
     "output_type": "execute_result"
    }
   ],
   "source": [
    "import numpy as np\n",
    "import pandas as pd \n",
    "df = pd.read_csv(\"../data/COMP1801_Coursework_Dataset_Corrected.csv\")\n",
    "df.shape\n",
    "df.head()"
   ]
  },
  {
   "cell_type": "markdown",
   "id": "2152b6d2",
   "metadata": {},
   "source": [
    "### Now we will split the dataset into train data and test data:\n",
    "\n",
    "1. Train data contains **80%** of the dataset for training\n",
    "2. Test data contains **20%** of the dataset purely for testing "
   ]
  },
  {
   "cell_type": "code",
   "execution_count": 3,
   "id": "c23561af",
   "metadata": {},
   "outputs": [
    {
     "name": "stdout",
     "output_type": "stream",
     "text": [
      "size of X_train is :(800, 15) and that of X_test is :(200, 15)\n",
      "size of y_train is :(800,) and that of y_test is :(200,)\n"
     ]
    }
   ],
   "source": [
    "from sklearn.model_selection import train_test_split\n",
    "X = df.drop(columns=['Lifespan'])\n",
    "y = df['Lifespan']\n",
    "X_train, X_test, y_train, y_test = train_test_split(X, y, test_size=0.20, random_state=17)\n",
    "print(f\"size of X_train is :{X_train.shape} and that of X_test is :{X_test.shape}\")\n",
    "print(f\"size of y_train is :{y_train.shape} and that of y_test is :{y_test.shape}\")"
   ]
  },
  {
   "cell_type": "markdown",
   "id": "ba0b1596",
   "metadata": {},
   "source": [
    "### Encoding features:\n",
    "\n",
    "For encoding purpose I will choose OneHotEncoder to avoid imposing a false numerical order, which is a risk with the LabelEncoder."
   ]
  },
  {
   "cell_type": "code",
   "execution_count": 6,
   "id": "fcdc47bf",
   "metadata": {},
   "outputs": [],
   "source": [
    "from sklearn.preprocessing import OneHotEncoder, StandardScaler\n",
    "from sklearn.compose import ColumnTransformer \n",
    "from sklearn.pipeline import Pipeline"
   ]
  },
  {
   "cell_type": "code",
   "execution_count": 15,
   "id": "3a34209d",
   "metadata": {},
   "outputs": [
    {
     "name": "stdout",
     "output_type": "stream",
     "text": [
      "['partType', 'microstructure', 'seedLocation', 'castType']\n",
      "['coolingRate', 'quenchTime', 'forgeTime', 'HeatTreatTime', 'Nickel%', 'Iron%', 'Cobalt%', 'Chromium%', 'smallDefects', 'largeDefects', 'sliverDefects']\n"
     ]
    }
   ],
   "source": [
    "# grouping numerical and categorical feature columns\n",
    "\n",
    "cat_col = X_train.select_dtypes(include=['object','category']).columns.tolist()\n",
    "num_col = X_train.select_dtypes(include=['int64','float64']).columns.tolist()\n",
    "\n",
    "print(cat_col)\n",
    "print(num_col)"
   ]
  },
  {
   "cell_type": "code",
   "execution_count": 16,
   "id": "3c3a62df",
   "metadata": {},
   "outputs": [
    {
     "name": "stdout",
     "output_type": "stream",
     "text": [
      "Original shape: (800, 15)\n",
      "Preprocessed shape: (800, 23)\n",
      "\n",
      "Feature names after preprocessing:\n",
      "['coolingRate', 'quenchTime', 'forgeTime', 'HeatTreatTime', 'Nickel%', 'Iron%', 'Cobalt%', 'Chromium%', 'smallDefects', 'largeDefects', 'sliverDefects', 'partType_Blade', 'partType_Block', 'partType_Nozzle', 'partType_Valve', 'microstructure_colGrain', 'microstructure_equiGrain', 'microstructure_singleGrain', 'seedLocation_Bottom', 'seedLocation_Top', 'castType_Continuous', 'castType_Die', 'castType_Investment']\n"
     ]
    }
   ],
   "source": [
    "# create preprocessing pipelines for each data type\n",
    "\n",
    "from sklearn.pipeline import Pipeline\n",
    "from sklearn.compose import ColumnTransformer\n",
    "from sklearn.preprocessing import OneHotEncoder, StandardScaler\n",
    "import pandas as pd\n",
    "\n",
    "# Create preprocessing pipelines for each data type\n",
    "categorical_transformer = Pipeline(steps=[\n",
    "    ('onehot', OneHotEncoder(sparse_output=False, handle_unknown='ignore'))\n",
    "])\n",
    "\n",
    "numerical_transformer = Pipeline(steps=[\n",
    "    ('scaler', StandardScaler())\n",
    "])\n",
    "\n",
    "preprocessor = ColumnTransformer(\n",
    "    transformers=[\n",
    "        ('num', numerical_transformer, num_col),\n",
    "        ('cat', categorical_transformer, cat_col)\n",
    "    ],\n",
    "    remainder='passthrough'\n",
    ")\n",
    "\n",
    "X_train_preprocessed = preprocessor.fit_transform(X_train)\n",
    "X_test_preprocessed = preprocessor.transform(X_test)\n",
    "\n",
    "num_feature_names = num_col\n",
    "cat_feature_names = preprocessor.named_transformers_['cat']['onehot'].get_feature_names_out(cat_col)\n",
    "\n",
    "all_feature_names = list(num_feature_names) + list(cat_feature_names)\n",
    "\n",
    "X_train_preprocessed = pd.DataFrame(X_train_preprocessed, columns=all_feature_names, index=X_train.index)\n",
    "X_test_preprocessed = pd.DataFrame(X_test_preprocessed, columns=all_feature_names, index=X_test.index)\n",
    "\n",
    "print(f\"Original shape: {X_train.shape}\")\n",
    "print(f\"Preprocessed shape: {X_train_preprocessed.shape}\")\n",
    "print(f\"\\nFeature names after preprocessing:\\n{all_feature_names}\")"
   ]
  },
  {
   "cell_type": "markdown",
   "id": "27f5256a",
   "metadata": {},
   "source": [
    "---"
   ]
  },
  {
   "cell_type": "markdown",
   "id": "c19608af",
   "metadata": {},
   "source": [
    "### Base Modelling:\n",
    "\n",
    "1. Now let us start with modelling our data with a baseline model that predicts mean of training data. \n",
    "2. This serves as a baseline for our final model which should outperform this dummy regressor.\n",
    "3. This helps us identify if our model is learning anything at all."
   ]
  },
  {
   "cell_type": "code",
   "execution_count": 18,
   "id": "a6da1d2f",
   "metadata": {},
   "outputs": [],
   "source": [
    "from sklearn.dummy import DummyRegressor \n",
    "from sklearn.model_selection import GridSearchCV, cross_val_score\n",
    "from sklearn.svm import SVR \n",
    "from sklearn.ensemble import GradientBoostingRegressor \n",
    "from sklearn.metrics import mean_squared_error, r2_score, mean_absolute_error"
   ]
  },
  {
   "cell_type": "code",
   "execution_count": 19,
   "id": "794bb23c",
   "metadata": {},
   "outputs": [
    {
     "name": "stdout",
     "output_type": "stream",
     "text": [
      "\n",
      "Baseline Model (Mean Strategy):\n",
      "  Train R²: 0.0000\n",
      "  Test R²:  -0.0000\n",
      "  Test MSE: 113480.9922\n",
      "  Test MAE: 279.3145\n"
     ]
    }
   ],
   "source": [
    "# Baseline dummy regressor\n",
    "\n",
    "baseline_model = DummyRegressor(strategy='mean')\n",
    "baseline_model.fit(X_train_preprocessed, y_train)\n",
    "\n",
    "y_train_baseline = baseline_model.predict(X_train_preprocessed)\n",
    "y_test_baseline = baseline_model.predict(X_test_preprocessed)\n",
    "\n",
    "baseline_train_r2 = r2_score(y_train, y_train_baseline)\n",
    "baseline_test_r2 = r2_score(y_test, y_test_baseline)\n",
    "baseline_test_mse = mean_squared_error(y_test, y_test_baseline)\n",
    "baseline_test_mae = mean_absolute_error(y_test, y_test_baseline)\n",
    "\n",
    "print(f\"\\nBaseline Model (Mean Strategy):\")\n",
    "print(f\"  Train R²: {baseline_train_r2:.4f}\")\n",
    "print(f\"  Test R²:  {baseline_test_r2:.4f}\")\n",
    "print(f\"  Test MSE: {baseline_test_mse:.4f}\")\n",
    "print(f\"  Test MAE: {baseline_test_mae:.4f}\")"
   ]
  },
  {
   "cell_type": "markdown",
   "id": "e33af640",
   "metadata": {},
   "source": [
    "#### Key takeaways of baseline mode:\n",
    "\n",
    "1. R2 score: model socres 0.0000 that means it cannot explain any variance at all since it uses 'mean' strategy\n",
    "2. MSE and MAE tell us that the model is missing patterns by only predicting mean "
   ]
  },
  {
   "cell_type": "markdown",
   "id": "b191085f",
   "metadata": {},
   "source": [
    "### Modelling with Support Vector Regressor (SVR)"
   ]
  },
  {
   "cell_type": "code",
   "execution_count": 24,
   "id": "b5e92abd",
   "metadata": {},
   "outputs": [
    {
     "name": "stdout",
     "output_type": "stream",
     "text": [
      "\n",
      "Training SVR with GridSearchCV....\n",
      "Fitting 5 folds for each of 54 candidates, totalling 270 fits\n",
      "\n",
      "Best SVR Hyperparameters: {'C': 200, 'epsilon': 0.5, 'kernel': 'rbf'}\n",
      "Best CV R² Score: 0.6895\n",
      "\n",
      "SVR Performance:\n",
      "  Train R²: 0.8331\n",
      "  Test R²:  0.7284\n",
      "  Test MSE: 30817.1237\n",
      "  Test MAE: 136.5694\n"
     ]
    }
   ],
   "source": [
    "svr_params = {\n",
    "    'C': [0.1, 1, 10, 100, 150, 200],\n",
    "    'kernel':['linear','rbf','poly'],\n",
    "    'epsilon':[0.01, 0.1, 0.5]\n",
    "}\n",
    "\n",
    "svr_model = SVR()\n",
    "\n",
    "svr_grid_search = GridSearchCV(\n",
    "    estimator=svr_model,\n",
    "    param_grid=svr_params,\n",
    "    cv=5,\n",
    "    scoring='r2',\n",
    "    n_jobs=-1,\n",
    "    verbose=1\n",
    ")\n",
    "\n",
    "print(\"\\nTraining SVR with GridSearchCV....\")\n",
    "svr_grid_search.fit(X_train_preprocessed, y_train)\n",
    "\n",
    "# best SVR model\n",
    "best_svr_model = svr_grid_search.best_estimator_\n",
    "\n",
    "print(f\"\\nBest SVR Hyperparameters: {svr_grid_search.best_params_}\")\n",
    "print(f\"Best CV R² Score: {svr_grid_search.best_score_:.4f}\")\n",
    "\n",
    "# Make predictions with best SVR\n",
    "y_train_svr = best_svr_model.predict(X_train_preprocessed)\n",
    "y_test_svr = best_svr_model.predict(X_test_preprocessed)\n",
    "\n",
    "# Evaluate SVR\n",
    "svr_train_r2 = r2_score(y_train, y_train_svr)\n",
    "svr_test_r2 = r2_score(y_test, y_test_svr)\n",
    "svr_test_mse = mean_squared_error(y_test, y_test_svr)\n",
    "svr_test_mae = mean_absolute_error(y_test, y_test_svr)\n",
    "\n",
    "print(f\"\\nSVR Performance:\")\n",
    "print(f\"  Train R²: {svr_train_r2:.4f}\")\n",
    "print(f\"  Test R²:  {svr_test_r2:.4f}\")\n",
    "print(f\"  Test MSE: {svr_test_mse:.4f}\")\n",
    "print(f\"  Test MAE: {svr_test_mae:.4f}\")"
   ]
  },
  {
   "cell_type": "code",
   "execution_count": 25,
   "id": "4b707613",
   "metadata": {},
   "outputs": [
    {
     "name": "stdout",
     "output_type": "stream",
     "text": [
      "\n",
      "======================================================================\n",
      "4. MODEL TRAINING - GBR (Gradient Boosting Regressor)\n",
      "======================================================================\n",
      "\n",
      "Training GBR with GridSearchCV...\n",
      "Fitting 5 folds for each of 54 candidates, totalling 270 fits\n",
      "\n",
      "Best GBR Hyperparameters: {'learning_rate': 0.1, 'max_depth': 3, 'n_estimators': 200, 'subsample': 0.8}\n",
      "Best CV R² Score: 0.9852\n",
      "\n",
      "GBR Performance:\n",
      "  Train R²: 0.9979\n",
      "  Test R²:  0.9874\n",
      "  Test MSE: 1432.1436\n",
      "  Test MAE: 30.1800\n"
     ]
    }
   ],
   "source": [
    "# ============================================================================\n",
    "# 4b. MODEL TRAINING - GRADIENT BOOSTING REGRESSOR\n",
    "# ============================================================================\n",
    "print(\"\\n\" + \"=\" * 70)\n",
    "print(\"4. MODEL TRAINING - GBR (Gradient Boosting Regressor)\")\n",
    "print(\"=\" * 70)\n",
    "\n",
    "# Define GBR hyperparameter grid\n",
    "gbr_params = {\n",
    "    'n_estimators': [50, 100, 200],           # Number of boosting stages\n",
    "    'learning_rate': [0.01, 0.1, 0.5],       # Learning rate\n",
    "    'max_depth': [3, 5, 7],                   # Max tree depth\n",
    "    'subsample': [0.8, 1.0]                  # Subsample ratio\n",
    "}\n",
    "\n",
    "# Create GBR model\n",
    "gbr_model = GradientBoostingRegressor(random_state=42)\n",
    "\n",
    "# GridSearchCV to find best hyperparameters\n",
    "gbr_grid_search = GridSearchCV(\n",
    "    estimator=gbr_model,\n",
    "    param_grid=gbr_params,\n",
    "    cv=5,\n",
    "    scoring='r2',\n",
    "    n_jobs=-1,\n",
    "    verbose=1\n",
    ")\n",
    "\n",
    "print(\"\\nTraining GBR with GridSearchCV...\")\n",
    "gbr_grid_search.fit(X_train_preprocessed, y_train)\n",
    "\n",
    "# Get best GBR model\n",
    "best_gbr_model = gbr_grid_search.best_estimator_\n",
    "\n",
    "print(f\"\\nBest GBR Hyperparameters: {gbr_grid_search.best_params_}\")\n",
    "print(f\"Best CV R² Score: {gbr_grid_search.best_score_:.4f}\")\n",
    "\n",
    "# Make predictions with best GBR\n",
    "y_train_gbr = best_gbr_model.predict(X_train_preprocessed)\n",
    "y_test_gbr = best_gbr_model.predict(X_test_preprocessed)\n",
    "\n",
    "# Evaluate GBR\n",
    "gbr_train_r2 = r2_score(y_train, y_train_gbr)\n",
    "gbr_test_r2 = r2_score(y_test, y_test_gbr)\n",
    "gbr_test_mse = mean_squared_error(y_test, y_test_gbr)\n",
    "gbr_test_mae = mean_absolute_error(y_test, y_test_gbr)\n",
    "\n",
    "print(f\"\\nGBR Performance:\")\n",
    "print(f\"  Train R²: {gbr_train_r2:.4f}\")\n",
    "print(f\"  Test R²:  {gbr_test_r2:.4f}\")\n",
    "print(f\"  Test MSE: {gbr_test_mse:.4f}\")\n",
    "print(f\"  Test MAE: {gbr_test_mae:.4f}\")\n"
   ]
  },
  {
   "cell_type": "code",
   "execution_count": 35,
   "id": "9f37633c",
   "metadata": {},
   "outputs": [],
   "source": [
    "import matplotlib.pyplot as plt"
   ]
  },
  {
   "cell_type": "code",
   "execution_count": 39,
   "id": "750d8916",
   "metadata": {},
   "outputs": [
    {
     "name": "stdout",
     "output_type": "stream",
     "text": [
      "\n",
      "======================================================================\n",
      "MODEL COMPARISON SUMMARY\n",
      "======================================================================\n",
      "\n",
      "           Model  Train R²   Test R²      Test MSE   Test MAE\n",
      "Baseline (Mean)  0.000000 -0.000008 113480.992244 279.314484\n",
      "            SVR  0.833132  0.728436  30817.123700 136.569356\n",
      "            GBR  0.997910  0.987380   1432.143615  30.179950\n",
      "\n",
      " Best Model: GBR with Test R² = 0.9874!!!\n"
     ]
    },
    {
     "data": {
      "image/png": "[encoded data removed]",
      "text/plain": [
       "<Figure size 1000x600 with 1 Axes>"
      ]
     },
     "metadata": {},
     "output_type": "display_data"
    }
   ],
   "source": [
    "# ============================================================================\n",
    "# MODEL COMPARISON\n",
    "# ============================================================================\n",
    "print(\"\\n\" + \"=\" * 70)\n",
    "print(\"MODEL COMPARISON SUMMARY\")\n",
    "print(\"=\" * 70)\n",
    "\n",
    "comparison_df = pd.DataFrame({\n",
    "    'Model': ['Baseline (Mean)', 'SVR', 'GBR'],\n",
    "    'Train R²': [baseline_train_r2, svr_train_r2, gbr_train_r2],\n",
    "    'Test R²': [baseline_test_r2, svr_test_r2, gbr_test_r2],\n",
    "    'Test MSE': [baseline_test_mse, svr_test_mse, gbr_test_mse],\n",
    "    'Test MAE': [baseline_test_mae, svr_test_mae, gbr_test_mae]\n",
    "})\n",
    "\n",
    "print(\"\\n\", comparison_df.to_string(index=False))\n",
    "\n",
    "# Identify best model\n",
    "best_model_idx = comparison_df['Test R²'].idxmax()\n",
    "best_model_name = comparison_df.loc[best_model_idx, 'Model']\n",
    "best_test_r2 = comparison_df.loc[best_model_idx, 'Test R²']\n",
    "\n",
    "print(f\"\\n Best Model: {best_model_name} with Test R² = {best_test_r2:.4f}!!!\")\n",
    "\n",
    "# checking for overfitting\n",
    "\n",
    "models = ['Baseline', 'SVR', 'GBR']\n",
    "train_r2 = [r2_score(y_train, y_train_baseline), \n",
    "            r2_score(y_train, y_train_svr), \n",
    "            r2_score(y_train, y_train_gbr)]\n",
    "test_r2 = [r2_score(y_test, y_test_baseline), \n",
    "           r2_score(y_test, y_test_svr), \n",
    "           r2_score(y_test, y_test_gbr)]\n",
    "\n",
    "\n",
    "fig, ax = plt.subplots(figsize=(10, 6))\n",
    "\n",
    "x = range(len(models))\n",
    "width = 0.35\n",
    "\n",
    "ax.bar([i - width/2 for i in x], train_r2, width, label='Train', color='blue')\n",
    "ax.bar([i + width/2 for i in x], test_r2, width, label='Test', color='green')\n",
    "\n",
    "ax.set_ylabel('R² Score')\n",
    "ax.set_xlabel('Model')\n",
    "ax.set_title('Model Comparison: Train vs Test')\n",
    "ax.set_xticks(x)\n",
    "ax.set_xticklabels(models)\n",
    "ax.legend()\n",
    "ax.grid(axis='y', alpha=0.3)\n",
    "\n",
    "plt.tight_layout()\n",
    "plt.savefig(\"../report/figures/fig-2.1-overfitting-check.png\", dpi=500)\n",
    "plt.show()"
   ]
  },
  {
   "cell_type": "markdown",
   "id": "ef9ef9bd",
   "metadata": {},
   "source": [
    "### Modelling observations:\n",
    "\n",
    "1. We can see that SVR model doest'nt perform the best and is showing signs of slight possible overfitting\n",
    "2. We can also see that GBR model performs exceptional with both train and test performance being nearly identical, so there is negligible overfitting if at all "
   ]
  },
  {
   "cell_type": "code",
   "execution_count": null,
   "id": "8b038849",
   "metadata": {},
   "outputs": [],
   "source": []
  }
 ],
 "metadata": {
  "kernelspec": {
   "display_name": "comp1801-ml",
   "language": "python",
   "name": "python3"
  },
  "language_info": {
   "codemirror_mode": {
    "name": "ipython",
    "version": 3
   },
   "file_extension": ".py",
   "mimetype": "text/x-python",
   "name": "python",
   "nbconvert_exporter": "python",
   "pygments_lexer": "ipython3",
   "version": "3.10.19"
  }
 },
 "nbformat": 4,
 "nbformat_minor": 5
}
